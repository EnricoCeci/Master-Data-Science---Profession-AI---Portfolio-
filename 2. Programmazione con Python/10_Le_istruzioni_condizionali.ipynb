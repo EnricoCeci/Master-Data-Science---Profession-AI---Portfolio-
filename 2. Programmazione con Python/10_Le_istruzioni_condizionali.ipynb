{
  "nbformat": 4,
  "nbformat_minor": 0,
  "metadata": {
    "colab": {
      "provenance": [],
      "authorship_tag": "ABX9TyNk8QfGQHuqtoiaUM7cZfYj",
      "include_colab_link": true
    },
    "kernelspec": {
      "name": "python3",
      "display_name": "Python 3"
    },
    "language_info": {
      "name": "python"
    }
  },
  "cells": [
    {
      "cell_type": "markdown",
      "metadata": {
        "id": "view-in-github",
        "colab_type": "text"
      },
      "source": [
        "<a href=\"https://colab.research.google.com/github/EnricoCeci/Master-Data-Science---Profession-AI---Portfolio-/blob/main/2.%20Programmazione%20con%20Python/10_Le_istruzioni_condizionali.ipynb\" target=\"_parent\"><img src=\"https://colab.research.google.com/assets/colab-badge.svg\" alt=\"Open In Colab\"/></a>"
      ]
    },
    {
      "cell_type": "markdown",
      "source": [
        "#Esercizi con le Istruzioni Condizionali\n",
        "1 If-Else\n",
        "Inserisci un numero intero n in input:\n",
        "\n",
        "- Se n è dispari stampa Weird\n",
        "- Se n è pari e contenuto all'interno del range che va da 2 a 5 stampa Not Weird\n",
        "- Se n è pari e incluso nel range che va da 6 a 20 stampa Weird\n",
        "- Se n è pari e maggiori di 20 stampa Not Weird."
      ],
      "metadata": {
        "id": "NTpNULiceZjg"
      }
    },
    {
      "cell_type": "code",
      "source": [
        "n = int (input(\"Inserisci un numero intero: \"))\n",
        "if n % 2 != 0:\n",
        "  print(\"Weird\")\n",
        "elif n%2==0 and 2<n<5:\n",
        "  print(\"Not Weird\")\n",
        "elif n%2==0 and 6<n<20:\n",
        "  print(\"Weird\")\n",
        "elif n%2==0 and n>20:\n",
        "  print(\"Not Weird\")\n"
      ],
      "metadata": {
        "colab": {
          "base_uri": "https://localhost:8080/"
        },
        "id": "ml111XrZerj_",
        "outputId": "d58da668-8e92-46c3-e910-ca3600e41f9a"
      },
      "execution_count": null,
      "outputs": [
        {
          "output_type": "stream",
          "name": "stdout",
          "text": [
            "Inserisci un numero intero: 3\n",
            "Weird\n"
          ]
        }
      ]
    },
    {
      "cell_type": "code",
      "source": [
        "n = int (input(\"Inserisci un numero intero: \"))\n",
        "if n % 2 != 0 or n%2==0 and 6<n<20:\n",
        "  print(\"Weird\")\n",
        "elif n%2==0 and 2<n<5 or n%2==0 and n>20:\n",
        "  print(\"Not Weird\")"
      ],
      "metadata": {
        "colab": {
          "base_uri": "https://localhost:8080/"
        },
        "id": "Jcq1GJUQfeCU",
        "outputId": "bb93ec33-0d16-4f6e-f223-c1ecf934ba06"
      },
      "execution_count": null,
      "outputs": [
        {
          "output_type": "stream",
          "name": "stdout",
          "text": [
            "Inserisci un numero intero: 18\n",
            "Weird\n"
          ]
        }
      ]
    },
    {
      "cell_type": "markdown",
      "source": [
        "2. Deep Training - Principiante\n",
        "\n",
        "In questa esercitazione dovrai scrivere un programma Python che legga un numero intero inserito dall'utente e stampi un messaggio diverso a seconda del valore inserito. Dovrai utilizzare le istruzioni condizionali if, elif e else per gestire le seguenti condizioni:\n",
        "\n",
        "- Se il numero è negativo, stampa \"Il numero è negativo\".\n",
        "- Se il numero è zero, stampa \"Il numero è zero\".\n",
        "- Se il numero è positivo e minore di 10, stampa \"Il numero è positivo e minore di 10\".\n",
        "- Se il numero è positivo e maggiore o uguale a 10, stampa \"Il numero è positivo e almeno 10\".\n",
        "\n",
        "Il tuo programma dovrà leggere il valore tramite la funzione input() e convertirlo in un intero usando int(). Ricordati di usare l'indentazione corretta per delimitare i blocchi condizionali e di utilizzare gli operatori di confronto per verificare le condizioni richieste."
      ],
      "metadata": {
        "id": "ch8eEii5vzDv"
      }
    },
    {
      "cell_type": "code",
      "source": [
        "n = int (input(\"Inserisci un numero intero: \"))\n",
        "if n < 0:\n",
        "  print(\"il numero è negativo\")\n",
        "elif n == 0:\n",
        "  print(\"il numero è zero\")\n",
        "elif 0 < n < 10:\n",
        "  print(\"il numero è positivo e minore di 10\")\n",
        "elif n >= 10:\n",
        "  print(\"il numero è positivo e almeno 10\")"
      ],
      "metadata": {
        "id": "LPyTLEXwgNrn",
        "colab": {
          "base_uri": "https://localhost:8080/"
        },
        "outputId": "75d6d054-3997-4634-8700-c807280defcf"
      },
      "execution_count": 6,
      "outputs": [
        {
          "output_type": "stream",
          "name": "stdout",
          "text": [
            "Inserisci un numero intero: 0\n",
            "il numero è zero\n"
          ]
        }
      ]
    },
    {
      "cell_type": "markdown",
      "source": [
        "3. Deep Training - Facile\n",
        "\n",
        "Scrivi un programma Python che legge un numero intero inserito dall'utente e verifica se il numero è positivo, negativo o zero. Il programma deve stampare:\n",
        "- \"Positivo\" se il numero è maggiore di zero\n",
        "- \"Negativo\" se il numero è minore di zero\n",
        "- \"Zero\" se il numero è esattamente zero\n",
        "\n",
        "Successivamente, il programma deve controllare se il numero è pari o dispari, ma solo se il numero è diverso da zero. Per questo:\n",
        "- Se il numero è diverso da zero, stampa \"Pari\" se il numero è divisibile per 2 senza resto, altrimenti stampa \"Dispari\".\n",
        "- Se il numero è zero, non stampare nulla sulla parità.\n",
        "\n",
        "Usa le istruzioni condizionali if, else ed elif dove necessario, e applica gli operatori di confronto e logici per sviluppare le condizioni.\n",
        "\n",
        "Ricorda che la funzione input() restituisce una stringa, quindi dovrai convertire il valore inserito in un numero intero con la conversione esplicita (casting)."
      ],
      "metadata": {
        "id": "3Kxtg5DRxQ6W"
      }
    },
    {
      "cell_type": "code",
      "source": [
        "n = int (input(\"Inserisci un numero intero: \"))\n",
        "if n < 0 and n%2==0:\n",
        "  print (f\"Il numero {n} è negativo e pari\")\n",
        "if n > 0 and n%2==0:\n",
        "  print (f\"Il numero {n} è positivo e pari\")\n",
        "if n < 0 and n%2!=0:\n",
        "  print (f\"Il numero {n} è negativo e dispari\")\n",
        "if n > 0 and n%2!=0:\n",
        "  print (f\"Il numero {n} è positivo e dispari\")\n",
        "if n == 0:\n",
        "  print (\"Zero\")"
      ],
      "metadata": {
        "colab": {
          "base_uri": "https://localhost:8080/"
        },
        "id": "BmC5N7RvwtTo",
        "outputId": "4d1fd1b2-41bb-4e86-e1c7-eb33b6acf0ff"
      },
      "execution_count": 10,
      "outputs": [
        {
          "output_type": "stream",
          "name": "stdout",
          "text": [
            "Inserisci un numero intero: 4\n",
            "Il numero 4 è positivo e pari\n"
          ]
        }
      ]
    },
    {
      "cell_type": "code",
      "source": [
        "#Alternativa + efficiente\n",
        "\n",
        "n = int(input(\"Inserisci un numero intero: \"))\n",
        "\n",
        "if n == 0:\n",
        "    print(\"Zero\")\n",
        "elif n > 0:\n",
        "    if n % 2 == 0:\n",
        "        print(f\"Il numero {n} è positivo e pari\")\n",
        "    else:\n",
        "        print(f\"Il numero {n} è positivo e dispari\")\n",
        "else:  # n < 0\n",
        "    if n % 2 == 0:\n",
        "        print(f\"Il numero {n} è negativo e pari\")\n",
        "    else:\n",
        "        print(f\"Il numero {n} è negativo e dispari\")\n",
        "\n",
        "\n",
        "#Alternativa ancora più efficiente\n",
        "\n",
        "n = int(input(\"Inserisci un numero intero: \"))\n",
        "\n",
        "if n == 0:\n",
        "    print(\"Zero\")\n",
        "else:\n",
        "    segno = \"positivo\" if n > 0 else \"negativo\"\n",
        "    parita = \"pari\" if n % 2 == 0 else \"dispari\"\n",
        "    print(f\"Il numero {n} è {segno} e {parita}\")\n",
        "\n"
      ],
      "metadata": {
        "colab": {
          "base_uri": "https://localhost:8080/"
        },
        "id": "nYjDbzsNza7o",
        "outputId": "8b795977-7204-4830-8064-e63e23c7ee53"
      },
      "execution_count": 11,
      "outputs": [
        {
          "output_type": "stream",
          "name": "stdout",
          "text": [
            "Inserisci un numero intero: 2\n",
            "Il numero 2 è positivo e pari\n",
            "Il numero 2 è positivo e dispari\n"
          ]
        }
      ]
    },
    {
      "cell_type": "markdown",
      "source": [
        "4. Deep Training - Intermedio\n",
        "\n",
        "In questa esercitazione ti verrà richiesto di scrivere un programma che analizza il voto ottenuto da uno studente e restituisce un messaggio personalizzato in base a diverse condizioni. Userai le istruzioni condizionali if, elif ed else, gli operatori logici e di confronto, e gestirai le espressioni booleane per prendere decisioni multiple.\n",
        "\n",
        "Lo schema del programma è il seguente:\n",
        "\n",
        "1. Leggi da tastiera un numero intero che rappresenta il voto finale di uno studente (da 0 a 30).\n",
        "2. Verifica che il voto sia valido (compreso tra 0 e 30). Se non valido, stampa \"Voto non valido\".\n",
        "3. Se il voto è valido, valuta la fascia di merito con queste regole:\n",
        "   - Se il voto è inferiore a 18, stampa \"Insufficiente\".\n",
        "   - Se il voto è compreso tra 18 e 23 (inclusi), stampa \"Sufficiente\".\n",
        "   - Se il voto è compreso tra 24 e 27 (inclusi), stampa \"Buono\".\n",
        "   - Se il voto è 28 o 29, stampa \"Distinto\".\n",
        "   - Se il voto è 30, chiedi con un ulteriore input se lo studente ha preso la lode (risposta \"si\" o \"no\", case insensitive):\n",
        "     - Se ha preso la lode, stampa \"Eccellente con lode\".\n",
        "     - Altrimenti stampa \"Eccellente\".\n",
        "\n",
        "4. Per la verifica della lode, usa un'istruzione if dentro un'altra (annidamento) o elif per gestire la condizione.\n",
        "\n",
        "Obiettivo: consolidare la comprensione di if, if annidati, else, elif, operatori di confronto e logici, gestione dell'input da tastiera e stampa su schermo.\n"
      ],
      "metadata": {
        "id": "COqB5MfN0xsv"
      }
    },
    {
      "cell_type": "code",
      "source": [
        "#Versione mia\n",
        "\n",
        "n = int(input(\"Inserisci il tuo voto (da 1 a 30): \"))\n",
        "\n",
        "if n < 1 or n > 30:\n",
        "  print(\"Il voto inserito non è valido\")\n",
        "elif n < 18:\n",
        "  print (\"Insufficiente\")\n",
        "elif 18 <= n <= 23:\n",
        "  print (\"Sufficiente\")\n",
        "elif 24 <= n <= 27:\n",
        "  print (\"Buono\")\n",
        "elif 28 <= n <= 29:\n",
        "  print (\"Distinto\")\n",
        "elif n == 30:\n",
        "  input(\"Hai preso la lode?\")\n",
        "  if \"si\":\n",
        "    print(\"Eccellente con lode\")\n",
        "  else:\n",
        "    print(\"Eccellente\")\n",
        "\n",
        "\n",
        "#versione più efficiente\n",
        "\n",
        "n = int(input(\"Inserisci il tuo voto (da 1 a 30): \"))\n",
        "\n",
        "if n < 1 or n > 30:\n",
        "    print(\"Il voto inserito non è valido\")\n",
        "elif n < 18:\n",
        "    print(\"Insufficiente\")\n",
        "elif n < 24:\n",
        "    print(\"Sufficiente\")\n",
        "elif n < 28:\n",
        "    print(\"Buono\")\n",
        "elif n < 30:\n",
        "    print(\"Distinto\")\n",
        "else:  # n == 30\n",
        "    lode = input(\"Hai preso la lode? (si/no): \").strip().lower()\n",
        "    if lode == \"si\":\n",
        "        print(\"Eccellente con lode\")\n",
        "    else:\n",
        "        print(\"Eccellente\")\n"
      ],
      "metadata": {
        "colab": {
          "base_uri": "https://localhost:8080/"
        },
        "id": "_vH7K1E2z9Lf",
        "outputId": "7abee6ed-633c-4c2f-f5e6-45254223b631"
      },
      "execution_count": 14,
      "outputs": [
        {
          "output_type": "stream",
          "name": "stdout",
          "text": [
            "Inserisci il tuo voto (da 1 a 30): 30\n",
            "Hai preso la lode?si\n",
            "Eccellente con lode\n"
          ]
        }
      ]
    },
    {
      "cell_type": "code",
      "source": [],
      "metadata": {
        "id": "NXiGfNV66IXU"
      },
      "execution_count": 14,
      "outputs": []
    }
  ]
}