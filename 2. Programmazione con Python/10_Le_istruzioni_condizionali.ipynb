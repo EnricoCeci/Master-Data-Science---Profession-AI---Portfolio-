{
  "nbformat": 4,
  "nbformat_minor": 0,
  "metadata": {
    "colab": {
      "provenance": [],
      "authorship_tag": "ABX9TyMfgZNlpZiPvMPg5vzHZ6p1",
      "include_colab_link": true
    },
    "kernelspec": {
      "name": "python3",
      "display_name": "Python 3"
    },
    "language_info": {
      "name": "python"
    }
  },
  "cells": [
    {
      "cell_type": "markdown",
      "metadata": {
        "id": "view-in-github",
        "colab_type": "text"
      },
      "source": [
        "<a href=\"https://colab.research.google.com/github/EnricoCeci/Master-Data-Science---Profession-AI---Portfolio-/blob/main/2.%20Programmazione%20con%20Python/10_Le_istruzioni_condizionali.ipynb\" target=\"_parent\"><img src=\"https://colab.research.google.com/assets/colab-badge.svg\" alt=\"Open In Colab\"/></a>"
      ]
    },
    {
      "cell_type": "markdown",
      "source": [
        "#Esercizi con le Istruzioni Condizionali\n",
        "1 If-Else\n",
        "Inserisci un numero intero n in input:\n",
        "\n",
        "- Se n è dispari stampa Weird\n",
        "- Se n è pari e contenuto all'interno del range che va da 2 a 5 stampa Not Weird\n",
        "- Se n è pari e incluso nel range che va da 6 a 20 stampa Weird\n",
        "- Se n è pari e maggiori di 20 stampa Not Weird."
      ],
      "metadata": {
        "id": "NTpNULiceZjg"
      }
    },
    {
      "cell_type": "code",
      "source": [
        "n = int (input(\"Inserisci un numero intero: \"))\n",
        "if n % 2 != 0:\n",
        "  print(\"Weird\")\n",
        "elif n%2==0 and 2<n<5:\n",
        "  print(\"Not Weird\")\n",
        "elif n%2==0 and 6<n<20:\n",
        "  print(\"Weird\")\n",
        "elif n%2==0 and n>20:\n",
        "  print(\"Not Weird\")\n"
      ],
      "metadata": {
        "colab": {
          "base_uri": "https://localhost:8080/"
        },
        "id": "ml111XrZerj_",
        "outputId": "d58da668-8e92-46c3-e910-ca3600e41f9a"
      },
      "execution_count": 3,
      "outputs": [
        {
          "output_type": "stream",
          "name": "stdout",
          "text": [
            "Inserisci un numero intero: 3\n",
            "Weird\n"
          ]
        }
      ]
    },
    {
      "cell_type": "code",
      "source": [
        "n = int (input(\"Inserisci un numero intero: \"))\n",
        "if n % 2 != 0 or n%2==0 and 6<n<20:\n",
        "  print(\"Weird\")\n",
        "elif n%2==0 and 2<n<5 or n%2==0 and n>20:\n",
        "  print(\"Not Weird\")"
      ],
      "metadata": {
        "colab": {
          "base_uri": "https://localhost:8080/"
        },
        "id": "Jcq1GJUQfeCU",
        "outputId": "bb93ec33-0d16-4f6e-f223-c1ecf934ba06"
      },
      "execution_count": 6,
      "outputs": [
        {
          "output_type": "stream",
          "name": "stdout",
          "text": [
            "Inserisci un numero intero: 18\n",
            "Weird\n"
          ]
        }
      ]
    },
    {
      "cell_type": "code",
      "source": [],
      "metadata": {
        "id": "LPyTLEXwgNrn"
      },
      "execution_count": null,
      "outputs": []
    }
  ]
}