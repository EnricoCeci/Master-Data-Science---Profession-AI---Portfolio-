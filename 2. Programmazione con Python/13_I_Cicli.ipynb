{
  "nbformat": 4,
  "nbformat_minor": 0,
  "metadata": {
    "colab": {
      "provenance": [],
      "authorship_tag": "ABX9TyPrlSLyJLh8nq/nHp4Qd3tj",
      "include_colab_link": true
    },
    "kernelspec": {
      "name": "python3",
      "display_name": "Python 3"
    },
    "language_info": {
      "name": "python"
    }
  },
  "cells": [
    {
      "cell_type": "markdown",
      "metadata": {
        "id": "view-in-github",
        "colab_type": "text"
      },
      "source": [
        "<a href=\"https://colab.research.google.com/github/EnricoCeci/Master-Data-Science---Profession-AI---Portfolio-/blob/main/2.%20Programmazione%20con%20Python/13_I_Cicli.ipynb\" target=\"_parent\"><img src=\"https://colab.research.google.com/assets/colab-badge.svg\" alt=\"Open In Colab\"/></a>"
      ]
    },
    {
      "cell_type": "markdown",
      "source": [
        "#Esercizi con i Cicli\n",
        "1. Potenze\n",
        "Leggi un intero N compreso tra 1 e 20 in input. Per tutti gli interi non negativi i < N stampa i^2."
      ],
      "metadata": {
        "id": "MNaPk2Nge9yr"
      }
    },
    {
      "cell_type": "code",
      "source": [
        "n = int(input(\"Inserisci un numero compreso tra 1 e 20: \"))\n",
        "\n",
        "if n <1 or n> 20\n",
        "  print(\"Il numero deve essere compreso fra 1 e 20\")\n",
        "else\n",
        "for i in range (n):\n",
        "  print(i**2)\n"
      ],
      "metadata": {
        "colab": {
          "base_uri": "https://localhost:8080/"
        },
        "id": "barL3o2xfX4R",
        "outputId": "abb37ee7-f666-4617-b961-757303fd35b8"
      },
      "execution_count": null,
      "outputs": [
        {
          "output_type": "stream",
          "name": "stdout",
          "text": [
            "Inserisci un numero compreso tra 1 e 20: 10\n",
            "0\n",
            "1\n",
            "4\n",
            "9\n",
            "16\n",
            "25\n",
            "36\n",
            "49\n",
            "64\n",
            "81\n"
          ]
        }
      ]
    },
    {
      "cell_type": "markdown",
      "source": [
        "2. Secondo Arrivato\n",
        "\n",
        "Ricevi in input una lista con i punteggi dei partecipanti alla Giornata dello Sport Universitaria, trova il punteggio del secondo classificato.\n",
        "\n",
        "ESEMPIO DI INPUT\n",
        "2 3 6 6 5\n",
        "\n",
        "ESEMPIO DI OUTPUT\n",
        "5\n",
        "\n",
        "SUGGERIMENTI\n",
        "\n",
        "1) Tramite il metodo .split() possiamo dividere gli elementi di una stringa in base agli spazi.\n",
        "2) Possiamo applicare una trasformazione a tutti gli elementi di una collezione utilizzando la funzione map, questa funzione ritorna un generatore che possiamo riconvertire in una collezione."
      ],
      "metadata": {
        "id": "LzwlPfiChZLW"
      }
    },
    {
      "cell_type": "code",
      "source": [
        "l = \"2 3 6 6 5\"\n",
        "l = l.split()\n",
        "print(type(l), l)\n"
      ],
      "metadata": {
        "colab": {
          "base_uri": "https://localhost:8080/"
        },
        "id": "6S-eZBUkgbQ8",
        "outputId": "c3ccf794-20cb-4638-99c3-d9b368abc310"
      },
      "execution_count": null,
      "outputs": [
        {
          "output_type": "stream",
          "name": "stdout",
          "text": [
            "<class 'list'> ['2', '3', '6', '6', '5']\n"
          ]
        }
      ]
    },
    {
      "cell_type": "code",
      "source": [
        "l = list(map(int, l))\n",
        "print(type(l), l)"
      ],
      "metadata": {
        "colab": {
          "base_uri": "https://localhost:8080/"
        },
        "id": "8w4-025kixw0",
        "outputId": "d7327997-6141-49c3-9d23-7dd625b02cc0"
      },
      "execution_count": null,
      "outputs": [
        {
          "output_type": "stream",
          "name": "stdout",
          "text": [
            "<class 'list'> [2, 3, 6, 6, 5]\n"
          ]
        }
      ]
    },
    {
      "cell_type": "code",
      "source": [
        "arr = map(int, input().split())\n",
        "\n",
        "#scores = list(dict.fromkeys(arr)) se ci interessa rimuovere i duplicati mantenendo\n",
        "#l'ordine, possiamo usare questa funzione, nel nostro caso non ci interessa\n",
        "scores = set(arr)\n",
        "\n",
        "for i in scores:\n",
        "  larger = 0\n",
        "  for j in scores:\n",
        "    if i<j:\n",
        "      larger+=1\n",
        "  if larger==1:\n",
        "    break\n",
        "\n",
        "print(i)"
      ],
      "metadata": {
        "colab": {
          "base_uri": "https://localhost:8080/"
        },
        "id": "zqXTFcwvlyCk",
        "outputId": "8c198ec4-5db6-4c39-a597-0da18f1ee1d2"
      },
      "execution_count": null,
      "outputs": [
        {
          "output_type": "stream",
          "name": "stdout",
          "text": [
            "5\n",
            "5\n"
          ]
        }
      ]
    },
    {
      "cell_type": "code",
      "source": [
        "arr = map(int, input().split())\n",
        "scores = list(dict.fromkeys(arr))\n",
        "scores.sort() #revese=True per ordinare dal più grande al più piccolo, in tal caso il secondo avrà indice 1\n",
        "\n",
        "scores[-2]"
      ],
      "metadata": {
        "colab": {
          "base_uri": "https://localhost:8080/"
        },
        "id": "acWEg6rDl7UU",
        "outputId": "417cc833-d21a-45d2-db0d-de8812524ea5"
      },
      "execution_count": null,
      "outputs": [
        {
          "name": "stdout",
          "output_type": "stream",
          "text": [
            "12 42 39 28\n"
          ]
        },
        {
          "output_type": "execute_result",
          "data": {
            "text/plain": [
              "39"
            ]
          },
          "metadata": {},
          "execution_count": 13
        }
      ]
    },
    {
      "cell_type": "markdown",
      "source": [
        "3. Registro\n",
        "\n",
        "Hai a disposizione un record di N studenti. Ogni record contiene il nome dello studente e il suo voto in Matematica, Fisica e Chimica. I voti possono essere numeri con la virgola.\n",
        "\n",
        "Un utente inserisce un intero N seguito da il nome e i voti di N studenti. Il programma deve salvare i record in un dizionario.\n",
        "\n",
        "Alla fine l'utente inserirà il nome di uno studente, il programma dovrà dare il output la media dei voti di tale studente arrotandata a due cifre dopo la virgola.\n",
        "\n",
        "ESEMPIO DI INPUT\n",
        "\n",
        "3\n",
        "\n",
        "Krishna 67 68 69\n",
        "\n",
        "Arjun 70 98 63\n",
        "\n",
        "Malika 52 56 60\n",
        "\n",
        "Malika\n",
        "\n",
        "ESEMPIO DI OUTPUT\n",
        "\n",
        "56.00"
      ],
      "metadata": {
        "id": "6PRQjDnAsEtE"
      }
    },
    {
      "cell_type": "code",
      "source": [
        "n = int(input(\"Inserisci il numero di studenti\"))\n",
        "student_marks = {}\n",
        "\n",
        "for _ in range(n):\n",
        "  record = input()\n",
        "  record = record.split()\n",
        "  name = record[0]  #sto dicendo che il primo valore di quelli inseriti in input è il nome\n",
        "  marks = list(map(float, record[1:])) #sto dicendo che dal secondo valore in poi saranno float\n",
        "  student_marks[name] = marks  #in questo modo creo il dizionario\n",
        "\n",
        "query_name = input() #questo è il momento in cui viene di nuovo inserito il nome per sapere la media\n",
        "avg_mark = sum(student_marks[query_name])/len(student_marks[query_name])\n",
        "print(\"%.2f\" % avg_mark)"
      ],
      "metadata": {
        "id": "oUn6jyAJl_wg"
      },
      "execution_count": null,
      "outputs": []
    },
    {
      "cell_type": "markdown",
      "source": [
        "4. Palindromi\n",
        "\n",
        "Leggi una stringa in input all'interno di un loop. Se la stringa è uguale a \"stop\" interrompi il programma, altrimenti verifica se la stringa è un palindromo, in caso positivo stampa \"PAROLA è un palidromo\" inserendo la parola inserita in input al posto di PAROLA, altrimenti stampa \" PAROLA non è un palindromo\".\n",
        "\n",
        "SUGGERIMENTO\n",
        "\n",
        "Un palindromo è una parola che può essere letta allo stesso modo in entrambi i sensi (es. radar, osso, aerea)."
      ],
      "metadata": {
        "id": "AK1dXi0Ewvze"
      }
    },
    {
      "cell_type": "code",
      "source": [
        "word = None\n",
        "\n",
        "while(True):\n",
        "\n",
        "  word = input()\n",
        "\n",
        "  if(word==\"stop\"):\n",
        "    break\n",
        "\n",
        "  word_len = len(word)\n",
        "  is_palindrome = True\n",
        "\n",
        "  for i in range(word_len):\n",
        "    j = word_len-i-1 #come dirgli che l'indice parte dalla fine e risale lungo la parola\n",
        "    if(word[i]!=word[j]):\n",
        "      is_palindrome = False\n",
        "      break\n",
        "\n",
        "  if(is_palindrome):\n",
        "    print(\"%s è un palindromo\" % word)\n",
        "  else:\n",
        "    print(\"%s non è un palindromo\" % word)\n",
        "\n",
        "    word = input()"
      ],
      "metadata": {
        "id": "CJd31haSxQPc"
      },
      "execution_count": null,
      "outputs": []
    },
    {
      "cell_type": "markdown",
      "source": [
        "5. Deep Training - Principiante\n",
        "\n",
        "In questa esercitazione praticherai l'uso dei cicli in Python, in particolare i cicli while e for, per elaborare una sequenza di numeri forniti dall'utente. Dovrai scrivere un programma che:\n",
        "\n",
        "1. Chiede all'utente quanti numeri vuole inserire.\n",
        "2. Usa un ciclo per leggere esattamente quella quantità di numeri da tastiera.\n",
        "3. Durante la lettura calcola la somma di tutti i numeri inseriti.\n",
        "4. Alla fine stampa la somma e la media dei numeri inseriti.\n",
        "\n",
        "Per calcolare la media, usa la somma calcolata e dividila per il numero di valori; ricorda che la divisione in Python è possibile su tipi numerici. Per leggere i dati, usa la funzione input() e ricorda di convertire le stringhe in numeri (int o float) se necessario.\n",
        "\n",
        "Questo esercizio ti permette di mettere in pratica i cicli, l'uso di variabili contatore, l'input/output e le operazioni aritmetiche con variabili."
      ],
      "metadata": {
        "id": "tuEWN0g38NAg"
      }
    },
    {
      "cell_type": "code",
      "source": [
        "#CICLO FOR\n",
        "\n",
        "# Chiede quanti numeri inserire\n",
        "n = int(input(\"Quanti numeri vuoi inserire? \"))\n",
        "\n",
        "somma = 0  # variabile accumulatore inizializzata a zero\n",
        "\n",
        "# Ciclo for: esegue esattamente n iterazioni\n",
        "for i in range(n):   #range è una funzione che una sequenza di numeri interi che va da 0 a n-1.\n",
        "    numero = float(input(f\"Inserisci il numero {i+1}: \")) #Usiamo i+1 perché i parte da 0, ma noi vogliamo contare da 1.\n",
        "    somma += numero  # aggiorna la somma: Questo è un’abbreviazione di: somma = somma + numero\n",
        "\n",
        "# Calcola la media\n",
        "media = somma / n if n > 0 else 0\n",
        "\n",
        "# Stampa i risultati\n",
        "print(f\"La somma è: {somma}\")\n",
        "print(f\"La media è: {media}\")\n",
        "\n"
      ],
      "metadata": {
        "colab": {
          "base_uri": "https://localhost:8080/"
        },
        "id": "zxM8tB1sBJB6",
        "outputId": "76077b38-b5cb-41cd-bd41-47c10c47d63c"
      },
      "execution_count": 2,
      "outputs": [
        {
          "output_type": "stream",
          "name": "stdout",
          "text": [
            "Quanti numeri vuoi inserire? 8\n",
            "Inserisci il numero 1: 1\n",
            "Inserisci il numero 2: 2\n",
            "Inserisci il numero 3: 3\n",
            "Inserisci il numero 4: 4\n",
            "Inserisci il numero 5: 5\n",
            "Inserisci il numero 6: 6\n",
            "Inserisci il numero 7: 7\n",
            "Inserisci il numero 8: 8\n",
            "La somma è: 36.0\n",
            "La media è: 4.5\n"
          ]
        }
      ]
    },
    {
      "cell_type": "code",
      "source": [
        "#CICLO WHILE\n",
        "\n",
        "n = int(input(\"Quanti numeri vuoi inserire? \"))\n",
        "\n",
        "somma = 0\n",
        "contatore = 0 #si inizializza anche il contatore a 0\n",
        "\n",
        "while contatore < n:\n",
        "    numero = float(input(f\"Inserisci il numero {contatore + 1}: \"))\n",
        "    somma += numero\n",
        "    contatore += 1  #aggiorna il contatore se no il ciclo va all'infinito\n",
        "\n",
        "media = somma / n if n > 0 else 0\n",
        "\n",
        "print(f\"La somma è: {somma}\")\n",
        "print(f\"La media è: {media}\")\n"
      ],
      "metadata": {
        "id": "IR8MdtjsBK8O"
      },
      "execution_count": null,
      "outputs": []
    },
    {
      "cell_type": "markdown",
      "source": [
        "6. Deep Training - Facile\n",
        "\n",
        "In questa esercitazione dovrai scrivere due programmi che utilizzano i cicli per iterare su sequenze di dati o intervalli numerici.\n",
        "\n",
        "1) Scrivi un programma che:\n",
        "- chieda all'utente di inserire un numero intero positivo N;\n",
        "- usi un ciclo for per stampare tutti i numeri da 1 fino a N inclusi;\n",
        "- per ogni numero stampato, indichi se è pari o dispari (usando l'operatore modulo %);\n",
        "- alla fine stampi il totale dei numeri pari e quello dei numeri dispari incontrati.\n",
        "\n",
        "2) Scrivi un secondo programma che:\n",
        "- abbia predefinita (hardcoded) una lista con almeno 5 nomi di frutta (ad esempio ['mela', 'banana', 'pera', 'arancia', 'kiwi']);\n",
        "- utilizzi un ciclo while per iterare sugli elementi della lista usando un indice;\n",
        "- ad ogni iterazione stampi l'indice (partendo da 1) e il nome del frutto corrispondente;\n",
        "- se il frutto contiene la lettera 'a', salta la stampa del nome usando continue (ma stampa comunque l'indice);\n",
        "- il ciclo deve terminare quando si arriva alla fine della lista.\n",
        "\n",
        "Per entrambi i programmi, ricorda di usare correttamente l'indentazione per i blocchi di codice all'interno dei cicli e condizioni,\n",
        "e di aggiornare eventuali contatori per evitare cicli infiniti nel while.\n",
        "\n",
        "Buon lavoro!\n",
        "\n"
      ],
      "metadata": {
        "id": "pzQpoChgDHpR"
      }
    },
    {
      "cell_type": "code",
      "source": [
        "#CICLO FOR X IL PUNTO 1\n",
        "# Chiede inserire un numero intero positivo N\n",
        "N = int(input(\"Inserisci un numero? \"))\n",
        "\n",
        "# Inizializza i contatori\n",
        "conta_pari= 0  # variabile contatore per numeri pari inizializzata a zero\n",
        "conta_dispari= 0  # variabile contatore per numeri dispari inizializzata a zero\n",
        "\n",
        "# Ciclo for da 1 a N inclusi\n",
        "for i in range(1, N+1):   #range è una funzione che una sequenza di numeri interi che va da 0 a n-1.\n",
        "    if i%2==0:\n",
        "      print(f\"{i} è pari\")\n",
        "      conta_pari += 1\n",
        "    else:\n",
        "      print(f\"{i} è dispari\")\n",
        "      conta_dispari +=1\n",
        "\n",
        "    # Stampa i risultati finali\n",
        "print(f\"\\nTotale numeri pari: {conta_pari}\")\n",
        "print(f\"Totale numeri dispari: {conta_dispari}\")"
      ],
      "metadata": {
        "colab": {
          "base_uri": "https://localhost:8080/"
        },
        "id": "DJk69vwgDhCt",
        "outputId": "c6c89a2b-004f-4aca-949a-82932d6a0f19"
      },
      "execution_count": 3,
      "outputs": [
        {
          "output_type": "stream",
          "name": "stdout",
          "text": [
            "Inserisci un numero? 40\n",
            "1 è dispari\n",
            "2 è pari\n",
            "3 è dispari\n",
            "4 è pari\n",
            "5 è dispari\n",
            "6 è pari\n",
            "7 è dispari\n",
            "8 è pari\n",
            "9 è dispari\n",
            "10 è pari\n",
            "11 è dispari\n",
            "12 è pari\n",
            "13 è dispari\n",
            "14 è pari\n",
            "15 è dispari\n",
            "16 è pari\n",
            "17 è dispari\n",
            "18 è pari\n",
            "19 è dispari\n",
            "20 è pari\n",
            "21 è dispari\n",
            "22 è pari\n",
            "23 è dispari\n",
            "24 è pari\n",
            "25 è dispari\n",
            "26 è pari\n",
            "27 è dispari\n",
            "28 è pari\n",
            "29 è dispari\n",
            "30 è pari\n",
            "31 è dispari\n",
            "32 è pari\n",
            "33 è dispari\n",
            "34 è pari\n",
            "35 è dispari\n",
            "36 è pari\n",
            "37 è dispari\n",
            "38 è pari\n",
            "39 è dispari\n",
            "40 è pari\n",
            "\n",
            "Totale numeri pari: 20\n",
            "Totale numeri dispari: 20\n"
          ]
        }
      ]
    },
    {
      "cell_type": "code",
      "source": [
        "frutta = [\"mela\", \"banana\", \"pera\", \"arancia\", \"kiwi\"]\n",
        "i = 0\n",
        "\n",
        "print(\"La mia lista frutta\")\n",
        "#1. Elenca la frutta\n",
        "while i<len(frutta):\n",
        "  print(f\"{i+1} {frutta[i]}\")   #per evitare di avere l'indice 0 per la mela scrivo i+1 nel print\n",
        "  i+=1    #serve per incrementare l'indice altrimenti il ciclo lavora all'infinito\n",
        "\n",
        "\n",
        "\n",
        "\n",
        "\n",
        "\n"
      ],
      "metadata": {
        "colab": {
          "base_uri": "https://localhost:8080/"
        },
        "id": "WnEnHmB0I1F8",
        "outputId": "dc9d952d-35e6-4008-8fa6-53202631d70f"
      },
      "execution_count": 12,
      "outputs": [
        {
          "output_type": "stream",
          "name": "stdout",
          "text": [
            "La mia lista frutta\n",
            "1 mela\n",
            "2 banana\n",
            "3 pera\n",
            "4 arancia\n",
            "5 kiwi\n"
          ]
        }
      ]
    },
    {
      "cell_type": "code",
      "source": [
        "frutta = [\"mela\", \"banana\", \"pera\", \"arancia\", \"kiwi\"]\n",
        "i = 0\n",
        "\n",
        "#2.elenca la frutta non facendo comparire i frutti con la ma facendo comunque comparire l'indice dei frutti tolti\n",
        "while i<len(frutta):\n",
        "  if \"a\" in frutta[i]:\n",
        "    i+=1 #lo metto qui perché se se lo metto alla fine come prima, quando la parola contiene \"a\", python entra nell'if, poi va sul continue e rinizia il ciclo all'infinito perchè l'indice non gli viene avanzato prima\n",
        "    continue #quindi io gli sto dicendo di vedere se c'è la \"a\", di procedere con l'incremento dell'indice nel frattempo e poi con il continue va al frutto successivo per vedere se c'è la \"a\"\n",
        "             #ma nel frattempo lui procede comunque con la scrittura degli indici perché gli abbiamo detto di incrementare\n",
        "  print(f\"{i+1} {frutta[i]}\")   #per evitare di avere l'indice 0 per la mela scrivo i+1 nel print\n",
        "  i+=1  #per evitare che stampi kiwi all'infinito devo incrementare anche qui, così incrementa anche per le parole che non contengono la \"a\""
      ],
      "metadata": {
        "colab": {
          "base_uri": "https://localhost:8080/"
        },
        "id": "TmA-GargPeMb",
        "outputId": "94039da8-a030-47e0-86db-da64955a4816"
      },
      "execution_count": 17,
      "outputs": [
        {
          "output_type": "stream",
          "name": "stdout",
          "text": [
            "5 kiwi\n"
          ]
        }
      ]
    }
  ]
}