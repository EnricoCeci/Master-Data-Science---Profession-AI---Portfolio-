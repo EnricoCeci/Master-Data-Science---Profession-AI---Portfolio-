{
  "nbformat": 4,
  "nbformat_minor": 0,
  "metadata": {
    "colab": {
      "provenance": [],
      "authorship_tag": "ABX9TyNSaZlJgTcUMIdr/NBl6imo",
      "include_colab_link": true
    },
    "kernelspec": {
      "name": "python3",
      "display_name": "Python 3"
    },
    "language_info": {
      "name": "python"
    }
  },
  "cells": [
    {
      "cell_type": "markdown",
      "metadata": {
        "id": "view-in-github",
        "colab_type": "text"
      },
      "source": [
        "<a href=\"https://colab.research.google.com/github/EnricoCeci/Master-Data-Science---Profession-AI---Portfolio-/blob/main/2.%20Programmazione%20con%20Python/13_I_Cicli.ipynb\" target=\"_parent\"><img src=\"https://colab.research.google.com/assets/colab-badge.svg\" alt=\"Open In Colab\"/></a>"
      ]
    },
    {
      "cell_type": "markdown",
      "source": [
        "#Esercizi con i Cicli\n",
        "1. Potenze\n",
        "Leggi un intero N compreso tra 1 e 20 in input. Per tutti gli interi non negativi i < N stampa i^2."
      ],
      "metadata": {
        "id": "MNaPk2Nge9yr"
      }
    },
    {
      "cell_type": "code",
      "source": [
        "n = int(input(\"Inserisci un numero compreso tra 1 e 20: \"))\n",
        "\n",
        "if n <1 or n> 20\n",
        "  print(\"Il numero deve essere compreso fra 1 e 20\")\n",
        "else\n",
        "for i in range (n):\n",
        "  print(i**2)\n"
      ],
      "metadata": {
        "colab": {
          "base_uri": "https://localhost:8080/"
        },
        "id": "barL3o2xfX4R",
        "outputId": "abb37ee7-f666-4617-b961-757303fd35b8"
      },
      "execution_count": 6,
      "outputs": [
        {
          "output_type": "stream",
          "name": "stdout",
          "text": [
            "Inserisci un numero compreso tra 1 e 20: 10\n",
            "0\n",
            "1\n",
            "4\n",
            "9\n",
            "16\n",
            "25\n",
            "36\n",
            "49\n",
            "64\n",
            "81\n"
          ]
        }
      ]
    },
    {
      "cell_type": "markdown",
      "source": [
        "2. Secondo Arrivato\n",
        "\n",
        "Ricevi in input una lista con i punteggi dei partecipanti alla Giornata dello Sport Universitaria, trova il punteggio del secondo classificato.\n",
        "\n",
        "ESEMPIO DI INPUT\n",
        "2 3 6 6 5\n",
        "\n",
        "ESEMPIO DI OUTPUT\n",
        "5\n",
        "\n",
        "SUGGERIMENTI\n",
        "\n",
        "1) Tramite il metodo .split() possiamo dividere gli elementi di una stringa in base agli spazi.\n",
        "2) Possiamo applicare una trasformazione a tutti gli elementi di una collezione utilizzando la funzione map, questa funzione ritorna un generatore che possiamo riconvertire in una collezione."
      ],
      "metadata": {
        "id": "LzwlPfiChZLW"
      }
    },
    {
      "cell_type": "code",
      "source": [
        "l = \"2 3 6 6 5\"\n",
        "l = l.split()\n",
        "print(type(l), l)\n"
      ],
      "metadata": {
        "colab": {
          "base_uri": "https://localhost:8080/"
        },
        "id": "6S-eZBUkgbQ8",
        "outputId": "c3ccf794-20cb-4638-99c3-d9b368abc310"
      },
      "execution_count": 8,
      "outputs": [
        {
          "output_type": "stream",
          "name": "stdout",
          "text": [
            "<class 'list'> ['2', '3', '6', '6', '5']\n"
          ]
        }
      ]
    },
    {
      "cell_type": "code",
      "source": [
        "l = list(map(int, l))\n",
        "print(type(l), l)"
      ],
      "metadata": {
        "colab": {
          "base_uri": "https://localhost:8080/"
        },
        "id": "8w4-025kixw0",
        "outputId": "d7327997-6141-49c3-9d23-7dd625b02cc0"
      },
      "execution_count": 9,
      "outputs": [
        {
          "output_type": "stream",
          "name": "stdout",
          "text": [
            "<class 'list'> [2, 3, 6, 6, 5]\n"
          ]
        }
      ]
    },
    {
      "cell_type": "code",
      "source": [
        "arr = map(int, input().split())\n",
        "\n",
        "#scores = list(dict.fromkeys(arr)) se ci interessa rimuovere i duplicati mantenendo\n",
        "#l'ordine, possiamo usare questa funzione, nel nostro caso non ci interessa\n",
        "scores = set(arr)\n",
        "\n",
        "for i in scores:\n",
        "  larger = 0\n",
        "  for j in scores:\n",
        "    if i<j:\n",
        "      larger+=1\n",
        "  if larger==1:\n",
        "    break\n",
        "\n",
        "print(i)"
      ],
      "metadata": {
        "colab": {
          "base_uri": "https://localhost:8080/"
        },
        "id": "zqXTFcwvlyCk",
        "outputId": "8c198ec4-5db6-4c39-a597-0da18f1ee1d2"
      },
      "execution_count": 10,
      "outputs": [
        {
          "output_type": "stream",
          "name": "stdout",
          "text": [
            "5\n",
            "5\n"
          ]
        }
      ]
    },
    {
      "cell_type": "code",
      "source": [
        "arr = map(int, input().split())\n",
        "scores = list(dict.fromkeys(arr))\n",
        "scores.sort() #revese=True per ordinare dal più grande al più piccolo, in tal caso il secondo avrà indice 1\n",
        "\n",
        "scores[-2]"
      ],
      "metadata": {
        "colab": {
          "base_uri": "https://localhost:8080/"
        },
        "id": "acWEg6rDl7UU",
        "outputId": "417cc833-d21a-45d2-db0d-de8812524ea5"
      },
      "execution_count": 13,
      "outputs": [
        {
          "name": "stdout",
          "output_type": "stream",
          "text": [
            "12 42 39 28\n"
          ]
        },
        {
          "output_type": "execute_result",
          "data": {
            "text/plain": [
              "39"
            ]
          },
          "metadata": {},
          "execution_count": 13
        }
      ]
    },
    {
      "cell_type": "markdown",
      "source": [
        "3. Registro\n",
        "\n",
        "Hai a disposizione un record di N studenti. Ogni record contiene il nome dello studente e il suo voto in Matematica, Fisica e Chimica. I voti possono essere numeri con la virgola.\n",
        "\n",
        "Un utente inserisce un intero N seguito da il nome e i voti di N studenti. Il programma deve salvare i record in un dizionario.\n",
        "\n",
        "Alla fine l'utente inserirà il nome di uno studente, il programma dovrà dare il output la media dei voti di tale studente arrotandata a due cifre dopo la virgola.\n",
        "\n",
        "ESEMPIO DI INPUT\n",
        "\n",
        "3\n",
        "\n",
        "Krishna 67 68 69\n",
        "\n",
        "Arjun 70 98 63\n",
        "\n",
        "Malika 52 56 60\n",
        "\n",
        "Malika\n",
        "\n",
        "ESEMPIO DI OUTPUT\n",
        "\n",
        "56.00"
      ],
      "metadata": {
        "id": "6PRQjDnAsEtE"
      }
    },
    {
      "cell_type": "code",
      "source": [
        "n = int(input(\"Inserisci il numero di studenti\"))\n",
        "student_marks = {}\n",
        "\n",
        "for _ in range(n):\n",
        "  record = input()\n",
        "  record = record.split()\n",
        "  name = record[0]  #sto dicendo che il primo valore di quelli inseriti in input è il nome\n",
        "  marks = list(map(float, record[1:])) #sto dicendo che dal secondo valore in poi saranno float\n",
        "  student_marks[name] = marks  #in questo modo creo il dizionario\n",
        "\n",
        "query_name = input() #questo è il momento in cui viene di nuovo inserito il nome per sapere la media\n",
        "avg_mark = sum(student_marks[query_name])/len(student_marks[query_name])\n",
        "print(\"%.2f\" % avg_mark)"
      ],
      "metadata": {
        "id": "oUn6jyAJl_wg"
      },
      "execution_count": null,
      "outputs": []
    },
    {
      "cell_type": "markdown",
      "source": [
        "4. Palindromi\n",
        "\n",
        "Leggi una stringa in input all'interno di un loop. Se la stringa è uguale a \"stop\" interrompi il programma, altrimenti verifica se la stringa è un palindromo, in caso positivo stampa \"PAROLA è un palidromo\" inserendo la parola inserita in input al posto di PAROLA, altrimenti stampa \" PAROLA non è un palindromo\".\n",
        "\n",
        "SUGGERIMENTO\n",
        "\n",
        "Un palindromo è una parola che può essere letta allo stesso modo in entrambi i sensi (es. radar, osso, aerea)."
      ],
      "metadata": {
        "id": "AK1dXi0Ewvze"
      }
    },
    {
      "cell_type": "code",
      "source": [
        "word = None\n",
        "\n",
        "while(True):\n",
        "\n",
        "  word = input()\n",
        "\n",
        "  if(word==\"stop\"):\n",
        "    break\n",
        "\n",
        "  word_len = len(word)\n",
        "  is_palindrome = True\n",
        "\n",
        "  for i in range(word_len):\n",
        "    j = word_len-i-1 #come dirgli che l'indice parte dalla fine e risale lungo la parola\n",
        "    if(word[i]!=word[j]):\n",
        "      is_palindrome = False\n",
        "      break\n",
        "\n",
        "  if(is_palindrome):\n",
        "    print(\"%s è un palindromo\" % word)\n",
        "  else:\n",
        "    print(\"%s non è un palindromo\" % word)\n",
        "\n",
        "    word = input()"
      ],
      "metadata": {
        "id": "CJd31haSxQPc"
      },
      "execution_count": null,
      "outputs": []
    }
  ]
}