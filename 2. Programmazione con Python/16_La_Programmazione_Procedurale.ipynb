{
  "nbformat": 4,
  "nbformat_minor": 0,
  "metadata": {
    "colab": {
      "provenance": [],
      "authorship_tag": "ABX9TyOnkeADBwMk5SkR5//xkEf7",
      "include_colab_link": true
    },
    "kernelspec": {
      "name": "python3",
      "display_name": "Python 3"
    },
    "language_info": {
      "name": "python"
    }
  },
  "cells": [
    {
      "cell_type": "markdown",
      "metadata": {
        "id": "view-in-github",
        "colab_type": "text"
      },
      "source": [
        "<a href=\"https://colab.research.google.com/github/EnricoCeci/Master-Data-Science---Profession-AI---Portfolio-/blob/main/2.%20Programmazione%20con%20Python/16_La_Programmazione_Procedurale.ipynb\" target=\"_parent\"><img src=\"https://colab.research.google.com/assets/colab-badge.svg\" alt=\"Open In Colab\"/></a>"
      ]
    },
    {
      "cell_type": "markdown",
      "source": [
        "#Esercizi con le funzioni\n",
        "\n",
        "1. Area della Circonferenza\n",
        "Definisci una funzione che, prendendo in input il raggio, restituisce l'area della circonferenza.\n",
        "\n",
        "SUGGERIMENTI\n",
        "\n",
        "Puoi calcolare l'area della circonferenza come A = pigreco+r^2 dove il pi greco può essere approssimato a 3,14."
      ],
      "metadata": {
        "id": "qJ-auAAal2T_"
      }
    },
    {
      "cell_type": "code",
      "execution_count": null,
      "metadata": {
        "colab": {
          "base_uri": "https://localhost:8080/"
        },
        "id": "n_vqdZ5UW7b3",
        "outputId": "6da24b41-52ed-4d37-986c-70473f5fab66"
      },
      "outputs": [
        {
          "output_type": "stream",
          "name": "stdout",
          "text": [
            "inserisci il raggio della circonferenza: 4\n",
            "l'area del cerchio è 50.24\n"
          ]
        }
      ],
      "source": [
        "def circle_area(r, pi=3.14):\n",
        "  return pi * r**2\n",
        "\n",
        "\n",
        "raggio = int(input(\"inserisci il raggio della circonferenza: \"))\n",
        "\n",
        "area_cerchio = circle_area(raggio, pi=3.14)\n",
        "\n",
        "print (f\"l'area del cerchio è {area_cerchio}\")"
      ]
    },
    {
      "cell_type": "code",
      "source": [],
      "metadata": {
        "id": "0UWsudSaXTwb"
      },
      "execution_count": null,
      "outputs": []
    },
    {
      "cell_type": "markdown",
      "source": [
        "2. Anni bisestili\n",
        "\n",
        "Ogni 4 anni aggiungiamo un giorno al mese più breve dell'anno, cioè Febbraio, quest'anno è chiamato bisestile. I criteri utilizzati per definire se un anno è bisestile sono i seguenti:\n",
        "\n",
        "L'anno è divisibile per 4, allora è bisestile a meno che:\n",
        "\n",
        "L'anno è divisibile per 100, allora non è bisestile a meno che:\n",
        "\n",
        "L'anno è divisile per 400."
      ],
      "metadata": {
        "id": "QT8WaJyPmM92"
      }
    },
    {
      "cell_type": "code",
      "source": [
        "def is_leap(year):\n",
        "\n",
        "    leap = False  #partiamo assumendo che l'anno non è bisestile\n",
        "\n",
        "    if(year%4==0):\n",
        "        if(year%100==0):\n",
        "            if(year%400==0):\n",
        "                leap = True\n",
        "        else:\n",
        "            leap = True  #rappresenta i caso in cui l'anno non sia divisibile per 100\n",
        "\n",
        "    return leap\n",
        "\n",
        "anno = int(input())\n",
        "leap = (is_leap(anno))\n",
        "\n",
        "if leap:\n",
        "    print(\"l'anno è bisestile\")\n",
        "else:\n",
        "    print(\"l'anno non è bisestile\")"
      ],
      "metadata": {
        "colab": {
          "base_uri": "https://localhost:8080/"
        },
        "id": "CKtj9NWcmbtx",
        "outputId": "ede943d8-5a74-4e0b-ab15-403fafbbe2b0"
      },
      "execution_count": null,
      "outputs": [
        {
          "output_type": "stream",
          "name": "stdout",
          "text": [
            "2028\n",
            "l'anno è bisestile\n"
          ]
        }
      ]
    },
    {
      "cell_type": "markdown",
      "source": [
        "3. Anagrammi\n",
        "\n",
        "Definisci una funzione che, prendendo in input due parole, verifica se le due parole sono anagrammi.\n",
        "\n",
        "SUGGERIMENTO\n",
        "\n",
        "Due parole sono anagrammi se sono composte esattamente dalle stesse lettere (es. strani/nastri, carino/canori, senatori/estranio"
      ],
      "metadata": {
        "id": "G0bcBCAHpFM-"
      }
    },
    {
      "cell_type": "code",
      "source": [
        "def are_anagrams(word1, word2):\n",
        "  if len(word1) != len(word2):\n",
        "    return False\n",
        "\n",
        "  word1_list = list(word1)  #trasformo la parole in una lista di lettere così\n",
        "  word2_list = list(word2)  #posso intervenire su di esse\n",
        "\n",
        "  for c in word1_list:\n",
        "    if(c in word2_list):\n",
        "      word2_list.remove(c)\n",
        "\n",
        "  if(len(word2_list)==0):\n",
        "    return True\n",
        "  else:\n",
        "    return False\n",
        "\n",
        "word1 = input(\"inserisci la prima parola: \")\n",
        "word2 = input(\"inserisci la seconda parola: \")\n",
        "\n",
        "\n",
        "if are_anagrams:\n",
        "  print(\"le due parole sono anagrammi\")\n",
        "else:\n",
        "  print(\"le due parole non sono anagrammi\")"
      ],
      "metadata": {
        "colab": {
          "base_uri": "https://localhost:8080/"
        },
        "id": "twfc7e61oSIm",
        "outputId": "bebf345c-28ce-46a0-8de0-21746ea25e07"
      },
      "execution_count": null,
      "outputs": [
        {
          "output_type": "stream",
          "name": "stdout",
          "text": [
            "inserisci la prima parola: strano\n",
            "inserisci la seconda parola: nastro\n",
            "le due parole sono anagrammi\n"
          ]
        }
      ]
    },
    {
      "cell_type": "markdown",
      "source": [
        "4. Validazione di indirizzi email\n",
        "\n",
        "Realizziamo una funzione che, prendendo in input una lista di indirizzi email, ritorni una nuova lista degli indirizzi email validi ordinati alfabeticamente.\n",
        "\n",
        "Un'indirizzo email è valido se:\n",
        "\n",
        "- Ha il formato nomeutente@dominio.estensione.\n",
        "\n",
        "- Il nome utente contiene soltanto lettere, numeri, lineette (-) e trattini bassi (_).\n",
        "\n",
        "- Il dominio contiene soltanto lettere e numeri.\n",
        "\n",
        "- La lunghezza massima dell'estensione è 3 caratteri."
      ],
      "metadata": {
        "id": "JiyF_vk4yHX5"
      }
    },
    {
      "cell_type": "code",
      "source": [
        "def validate_email(email):\n",
        "\n",
        "  parts = email.split(\"@\") #divido la mail con split dando come riferimento la @\n",
        "  if(len(parts)!=2):       #siccome la mail è un parola prima e una dopo la @\n",
        "    return False           #se c'è qualcosa in più allora non è una mail\n",
        "\n",
        "  name, parts = parts      #consideriamo il nome e la parte rimanente dell'indirizo\n",
        "                           #email dopo il punto\n",
        "  parts = parts.split(\".\")\n",
        "  if(len(parts)!=2):       #stessa logica in cui è stata usata la @\n",
        "    return False\n",
        "\n",
        "  domain, ext = parts\n",
        "\n",
        "  if(not name.replace(\"_\",\"\").replace(\"-\",\"\").isalnum()):\n",
        "    return False\n",
        "\n",
        "  if(not domain.isalnum()):\n",
        "    return False\n",
        "\n",
        "  if(len(ext)>3):\n",
        "    return False\n",
        "\n",
        "  return True\n",
        "\n",
        "\n",
        "def filter_emails(emails):\n",
        "  valid_emails = list(filter(validate_email, emails))\n",
        "  valid_emails.sort()\n",
        "  return valid_emails\n",
        "\n",
        "emails = [\"giuseppe@profession.ai\", \"nicki88@gmail.com\", \"gatto_top@boss.it\"]\n",
        "\n",
        "valid_emails=filter_emails(emails)\n",
        "print(valid_emails)"
      ],
      "metadata": {
        "colab": {
          "base_uri": "https://localhost:8080/"
        },
        "id": "MQhbTc1_sIUR",
        "outputId": "0364a66e-ade4-452e-bf7e-a934fd9bcb90"
      },
      "execution_count": null,
      "outputs": [
        {
          "output_type": "stream",
          "name": "stdout",
          "text": [
            "['gatto_top@boss.it', 'giuseppe@profession.ai', 'nicki88@gmail.com']\n"
          ]
        }
      ]
    },
    {
      "cell_type": "markdown",
      "source": [
        "#5. Deep Test\n",
        "\n",
        "In questa esercitazione ti viene chiesto di creare alcune semplici funzioni in Python per applicare quanto appreso nella programmazione procedurale. Le funzioni ti permettono di organizzare il codice, riutilizzarlo e mantenere il programma più pulito.\n",
        "\n",
        "1. Definisci una funzione chiamata `say_hello` che prende un parametro chiamato `name` e stampa il messaggio \"Ciao, <name>!\".\n",
        "\n",
        "2. Definisci una funzione chiamata `square` che prende un numero intero come parametro e ritorna il suo quadrato (cioè il numero moltiplicato per se stesso).\n",
        "\n",
        "3. Definisci una funzione chiamata `calculate_average` che prende una lista di numeri come parametro e restituisce la media aritmetica (somma degli elementi divisa per il numero totale di elementi).\n",
        "\n",
        "4. Scrivi un programma che:\n",
        "  - Chiede all'utente di inserire il proprio nome, chiama `say_hello` per salutare l'utente.\n",
        "  - Chiede all'utente di inserire un numero intero, usa `square` per calcolare il quadrato del numero e stampa il risultato.\n",
        "  - Chiede all'utente di inserire 5 numeri (uno alla volta), salva questi numeri in una lista, calcola la media usando `calculate_average` e stampa il valore medio formattato a due cifre decimali.\n",
        "\n",
        "Per risolvere questo esercizio usa le conoscenze sulle funzioni (definizione, parametri, return), sugli input/output, e sulle operazioni aritmetiche già viste nei moduli precedenti."
      ],
      "metadata": {
        "id": "47LGUyQuBsto"
      }
    },
    {
      "cell_type": "code",
      "source": [
        "def say_hello (name):\n",
        "  return f\"Ciao {name}\"\n",
        "\n",
        "print(say_hello (\"Enrico\"))"
      ],
      "metadata": {
        "id": "aGCwqxaGgIEm",
        "colab": {
          "base_uri": "https://localhost:8080/"
        },
        "outputId": "74bdfd81-179d-4053-e51e-d36fd3a43cab"
      },
      "execution_count": 10,
      "outputs": [
        {
          "output_type": "stream",
          "name": "stdout",
          "text": [
            "Ciao Enrico\n"
          ]
        }
      ]
    },
    {
      "cell_type": "code",
      "source": [
        "def square(int):\n",
        "  return int**2\n",
        "\n",
        "print(square(2))"
      ],
      "metadata": {
        "colab": {
          "base_uri": "https://localhost:8080/"
        },
        "id": "aDzWbzUGCJQC",
        "outputId": "3235de55-6166-47b3-9376-8147574f828b"
      },
      "execution_count": 11,
      "outputs": [
        {
          "output_type": "stream",
          "name": "stdout",
          "text": [
            "4\n"
          ]
        }
      ]
    },
    {
      "cell_type": "code",
      "source": [
        "def calculate_average(list):\n",
        "  return sum(list)/len(list)\n",
        "\n",
        "print(calculate_average([1, 2, 3, 4, 5]))"
      ],
      "metadata": {
        "colab": {
          "base_uri": "https://localhost:8080/"
        },
        "id": "uJC3t2iIKvRv",
        "outputId": "bb3ea50e-302c-4dc4-ed2b-86828a6f4dac"
      },
      "execution_count": 12,
      "outputs": [
        {
          "output_type": "stream",
          "name": "stdout",
          "text": [
            "3.0\n"
          ]
        }
      ]
    },
    {
      "cell_type": "code",
      "source": [
        "def say_hello (name):\n",
        "  return f\"Ciao {name}\"\n",
        "\n",
        "nome = input(\"Qual è il tuo nome?\")\n",
        "\n",
        "print(say_hello (nome))\n",
        "\n",
        "\n",
        "def square(int):\n",
        "  return int**2\n",
        "\n",
        "numero = int(input(\"inserisci un numero intero: \"))\n",
        "\n",
        "print(square(numero))\n",
        "\n",
        "\n",
        "\n",
        "lista_numeri = [] #inizializzo la lista mettendola vuota\n",
        "for i in range(5):   #range è una funzione che una sequenza di numeri interi che va da 0 a n-1.\n",
        "    numero = float(input(f\"Inserisci il numero {i+1}: \")) #Usiamo i+1 perché i parte da 0, ma noi vogliamo contare da 1 e farlo comparire all'utente che compila.\n",
        "    lista_numeri.append(numero)\n",
        "\n",
        "\n",
        "def calculate_average(list):\n",
        "  return sum(list)/len(list)\n",
        "\n",
        "print(calculate_average(lista_numeri))\n"
      ],
      "metadata": {
        "colab": {
          "base_uri": "https://localhost:8080/"
        },
        "id": "nAeJYvXKLHq-",
        "outputId": "c58064ef-bed2-4282-b8b3-b3145e592eb3"
      },
      "execution_count": 14,
      "outputs": [
        {
          "output_type": "stream",
          "name": "stdout",
          "text": [
            "Qual è il tuo nome?Enrico\n",
            "Ciao Enrico\n",
            "inserisci un numero intero: 8\n",
            "64\n",
            "Inserisci il numero 1: 1\n",
            "Inserisci il numero 2: 2\n",
            "Inserisci il numero 3: 3\n",
            "Inserisci il numero 4: 4\n",
            "Inserisci il numero 5: 5\n",
            "3.0\n"
          ]
        }
      ]
    },
    {
      "cell_type": "code",
      "source": [],
      "metadata": {
        "id": "ajvtIIwjMqPF"
      },
      "execution_count": null,
      "outputs": []
    }
  ]
}