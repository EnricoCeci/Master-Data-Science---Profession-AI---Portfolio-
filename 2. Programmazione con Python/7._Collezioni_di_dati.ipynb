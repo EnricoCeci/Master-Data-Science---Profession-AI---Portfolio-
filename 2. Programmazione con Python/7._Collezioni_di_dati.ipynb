{
  "nbformat": 4,
  "nbformat_minor": 0,
  "metadata": {
    "colab": {
      "provenance": [],
      "authorship_tag": "ABX9TyNEkEE4MeWC+97eojOYLPj7",
      "include_colab_link": true
    },
    "kernelspec": {
      "name": "python3",
      "display_name": "Python 3"
    },
    "language_info": {
      "name": "python"
    }
  },
  "cells": [
    {
      "cell_type": "markdown",
      "metadata": {
        "id": "view-in-github",
        "colab_type": "text"
      },
      "source": [
        "<a href=\"https://colab.research.google.com/github/EnricoCeci/Master-Data-Science---Profession-AI---Portfolio-/blob/main/2.%20Programmazione%20con%20Python/7_Collezioni_di_dati.ipynb\" target=\"_parent\"><img src=\"https://colab.research.google.com/assets/colab-badge.svg\" alt=\"Open In Colab\"/></a>"
      ]
    },
    {
      "cell_type": "markdown",
      "source": [
        "#Esercizi con le Collezioni\n",
        "1. Pagelle scolastiche\n",
        "\n",
        "Creiamo una struttura dati in grado di contenere i record di diversi studenti. La struttura sarà composta da un dizionario, con come chiave il nome dello studente e come valore una lista. La lista deve contenere delle tuple e ogni tupla deve avere alla prima posizione in nome della materia, alla seconda il voto e alla terza le ore di assenza.\n",
        "\n",
        "1. Popola la struttura dati con le seguenti informazioni:\n",
        "2. Aggiungi alla struttura dati la pagella di un nuovo studente chiamato Albert Einstein, con 10 in tutte le materie e nessu na ora di assenza.\n",
        "3. Aggiungi Fisica a tutte le pagelle con le seguenti votazioni/assenze: Giuseppe Gullo 9.5/0, Antonino Barbera 8/1, Nicola Spina 8/3, Albert Einstein 10/0.\n",
        "4. Stampa la tupla con le informazioni sulla materia Matematica per Giuseppe Gullo\n",
        "5. Stampa la tupla con le informazioni sulla materia Inglese per Nicola Spina6. Stampa solo il voto di Antonio Barbera in Geografia.\n",
        "Studente\tMatematica\tItaliano\tInglese\tStoria\tGeografia\n",
        "Giuseppe Gullo\tVOTO: 9, ASSENZE: 0\tVOTO: 7, ASSENZE: 3\tVOTO: 7.5, ASSENZE: 4\tVOTO: 7.5, ASSENZE: 4\tVOTO: 5, ASSENZE: 7\n",
        "Antonio Barbera\tVOTO: 8, ASSENZE: 1\tVOTO: 6, ASSENZE: 1\tVOTO: 9.5, ASSENZE: 0\tVOTO: 8, ASSENZE: 2\tVOTO: 8, ASSENZE: 1\n",
        "Nicola Spina\tVOTO: 7.5, ASSENZE: 2\tVOTO: 6, ASSENZE: 2\tVOTO: 4, ASSENZE: 3\tVOTO: 8.5, ASSENZE: 2\tVOTO: 8, ASSENZE: 2\n"
      ],
      "metadata": {
        "id": "Ypb7LQtmFTvf"
      }
    },
    {
      "cell_type": "code",
      "source": [
        "students = {\"Giuseppe Gullo\": [(\"mate\",8,0), (\"ita\", 7, 4), (\"ing\", 7.5, 4), (\"sto\", 7.5, 4), (\"geo\", 5, 7)], \"Antonio Barbera\": [(\"mate\",8,1), (\"ita\", 6, 1), (\"ing\", 9.5, 0), (\"sto\", 8, 2), (\"geo\", 8, 1)], \"Emiliano Ruozzo\": [(\"mate\",7.5,2), (\"ita\", 6, 2), (\"ing\", 4, 3), (\"sto\", 8.5, 2), (\"geo\", 8, 2)],}"
      ],
      "metadata": {
        "id": "_qp8z_WVFjSw"
      },
      "execution_count": 41,
      "outputs": []
    },
    {
      "cell_type": "code",
      "source": [
        "students"
      ],
      "metadata": {
        "colab": {
          "base_uri": "https://localhost:8080/"
        },
        "id": "xTsgY9nxQu2m",
        "outputId": "9767694a-65f3-436a-da26-de6a16ef2820"
      },
      "execution_count": 42,
      "outputs": [
        {
          "output_type": "execute_result",
          "data": {
            "text/plain": [
              "{'Giuseppe Gullo': [('mate', 8, 0),\n",
              "  ('ita', 7, 4),\n",
              "  ('ing', 7.5, 4),\n",
              "  ('sto', 7.5, 4),\n",
              "  ('geo', 5, 7)],\n",
              " 'Antonio Barbera': [('mate', 8, 1),\n",
              "  ('ita', 6, 1),\n",
              "  ('ing', 9.5, 0),\n",
              "  ('sto', 8, 2),\n",
              "  ('geo', 8, 1)],\n",
              " 'Emiliano Ruozzo': [('mate', 7.5, 2),\n",
              "  ('ita', 6, 2),\n",
              "  ('ing', 4, 3),\n",
              "  ('sto', 8.5, 2),\n",
              "  ('geo', 8, 2)]}"
            ]
          },
          "metadata": {},
          "execution_count": 42
        }
      ]
    },
    {
      "cell_type": "code",
      "source": [
        "students[\"Albert Einstein\"]  = [(\"mate\",10,0), (\"ita\", 10, 0), (\"ing\", 10, 0), (\"sto\", 10, 0), (\"geo\", 10, 0)]"
      ],
      "metadata": {
        "id": "BKzAEIlCQuxG"
      },
      "execution_count": 43,
      "outputs": []
    },
    {
      "cell_type": "code",
      "source": [
        "students"
      ],
      "metadata": {
        "colab": {
          "base_uri": "https://localhost:8080/"
        },
        "id": "hVGvO5esQuqo",
        "outputId": "14635dce-369e-469b-f89a-17e65bb7b17c"
      },
      "execution_count": 44,
      "outputs": [
        {
          "output_type": "execute_result",
          "data": {
            "text/plain": [
              "{'Giuseppe Gullo': [('mate', 8, 0),\n",
              "  ('ita', 7, 4),\n",
              "  ('ing', 7.5, 4),\n",
              "  ('sto', 7.5, 4),\n",
              "  ('geo', 5, 7)],\n",
              " 'Antonio Barbera': [('mate', 8, 1),\n",
              "  ('ita', 6, 1),\n",
              "  ('ing', 9.5, 0),\n",
              "  ('sto', 8, 2),\n",
              "  ('geo', 8, 1)],\n",
              " 'Emiliano Ruozzo': [('mate', 7.5, 2),\n",
              "  ('ita', 6, 2),\n",
              "  ('ing', 4, 3),\n",
              "  ('sto', 8.5, 2),\n",
              "  ('geo', 8, 2)],\n",
              " 'Albert Einstein': [('mate', 10, 0),\n",
              "  ('ita', 10, 0),\n",
              "  ('ing', 10, 0),\n",
              "  ('sto', 10, 0),\n",
              "  ('geo', 10, 0)]}"
            ]
          },
          "metadata": {},
          "execution_count": 44
        }
      ]
    },
    {
      "cell_type": "code",
      "source": [
        "students[\"Giuseppe Gullo\"].append((\"Fisica\", 9.5, 0))\n",
        "students[\"Antonio Barbera\"].append((\"Fisica\", 8, 1))\n",
        "students[\"Emiliano Ruozzo\"].append((\"Fisica\", 8, 3))\n",
        "students[\"Albert Einstein\"].append((\"Fisica\", 10, 0))"
      ],
      "metadata": {
        "id": "bgJuxsyoQuU3"
      },
      "execution_count": 45,
      "outputs": []
    },
    {
      "cell_type": "code",
      "source": [
        "students"
      ],
      "metadata": {
        "colab": {
          "base_uri": "https://localhost:8080/"
        },
        "id": "ZNDntvyCVkYb",
        "outputId": "fdf36217-b7bf-4f86-effe-03cfab449f28"
      },
      "execution_count": 46,
      "outputs": [
        {
          "output_type": "execute_result",
          "data": {
            "text/plain": [
              "{'Giuseppe Gullo': [('mate', 8, 0),\n",
              "  ('ita', 7, 4),\n",
              "  ('ing', 7.5, 4),\n",
              "  ('sto', 7.5, 4),\n",
              "  ('geo', 5, 7),\n",
              "  ('Fisica', 9.5, 0)],\n",
              " 'Antonio Barbera': [('mate', 8, 1),\n",
              "  ('ita', 6, 1),\n",
              "  ('ing', 9.5, 0),\n",
              "  ('sto', 8, 2),\n",
              "  ('geo', 8, 1),\n",
              "  ('Fisica', 8, 1)],\n",
              " 'Emiliano Ruozzo': [('mate', 7.5, 2),\n",
              "  ('ita', 6, 2),\n",
              "  ('ing', 4, 3),\n",
              "  ('sto', 8.5, 2),\n",
              "  ('geo', 8, 2),\n",
              "  ('Fisica', 8, 3)],\n",
              " 'Albert Einstein': [('mate', 10, 0),\n",
              "  ('ita', 10, 0),\n",
              "  ('ing', 10, 0),\n",
              "  ('sto', 10, 0),\n",
              "  ('geo', 10, 0),\n",
              "  ('Fisica', 10, 0)]}"
            ]
          },
          "metadata": {},
          "execution_count": 46
        }
      ]
    },
    {
      "cell_type": "code",
      "source": [
        "students[\"Giuseppe Gullo\"][0]"
      ],
      "metadata": {
        "colab": {
          "base_uri": "https://localhost:8080/"
        },
        "id": "JDISV9E9YNYC",
        "outputId": "10357850-af67-4d36-dc06-ee84bcb66a7e"
      },
      "execution_count": 47,
      "outputs": [
        {
          "output_type": "execute_result",
          "data": {
            "text/plain": [
              "('mate', 8, 0)"
            ]
          },
          "metadata": {},
          "execution_count": 47
        }
      ]
    },
    {
      "cell_type": "code",
      "source": [
        "students[\"Emiliano Ruozzo\"][2]"
      ],
      "metadata": {
        "colab": {
          "base_uri": "https://localhost:8080/"
        },
        "id": "t8PNRJZqZEai",
        "outputId": "9760d4eb-aa11-4931-d4ae-924af7c62d9b"
      },
      "execution_count": 48,
      "outputs": [
        {
          "output_type": "execute_result",
          "data": {
            "text/plain": [
              "('ing', 4, 3)"
            ]
          },
          "metadata": {},
          "execution_count": 48
        }
      ]
    },
    {
      "cell_type": "code",
      "source": [
        "students[\"Antonio Barbera\"][4][1]"
      ],
      "metadata": {
        "colab": {
          "base_uri": "https://localhost:8080/"
        },
        "id": "J6_sBzI0ZYn6",
        "outputId": "fbf6536d-907e-4aeb-ff92-c1a90f87c0f2"
      },
      "execution_count": 50,
      "outputs": [
        {
          "output_type": "execute_result",
          "data": {
            "text/plain": [
              "8"
            ]
          },
          "metadata": {},
          "execution_count": 50
        }
      ]
    },
    {
      "cell_type": "code",
      "source": [],
      "metadata": {
        "id": "4kM9zkw2ZmJL"
      },
      "execution_count": null,
      "outputs": []
    }
  ]
}
