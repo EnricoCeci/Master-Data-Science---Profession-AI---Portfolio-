{
  "nbformat": 4,
  "nbformat_minor": 0,
  "metadata": {
    "colab": {
      "provenance": [],
      "authorship_tag": "ABX9TyMQV5BQOJyfqx1bvd/VHjwJ",
      "include_colab_link": true
    },
    "kernelspec": {
      "name": "python3",
      "display_name": "Python 3"
    },
    "language_info": {
      "name": "python"
    }
  },
  "cells": [
    {
      "cell_type": "markdown",
      "metadata": {
        "id": "view-in-github",
        "colab_type": "text"
      },
      "source": [
        "<a href=\"https://colab.research.google.com/github/EnricoCeci/Master-Data-Science---Profession-AI---Portfolio-/blob/main/2.%20Programmazione%20con%20Python/4_Variabili_e_tipi_di_dati.ipynb\" target=\"_parent\"><img src=\"https://colab.research.google.com/assets/colab-badge.svg\" alt=\"Open In Colab\"/></a>"
      ]
    },
    {
      "cell_type": "markdown",
      "source": [
        "#1. Operazioni aritmetiche\n",
        "Inserisci due interi come input e stampa:\n",
        "1. La somma dei due numeri\n",
        "2. La differenza tra i due numeri (primo - secondo)\n",
        "3. Il prodotto tra i due numeri"
      ],
      "metadata": {
        "id": "TZCjS5eRN586"
      }
    },
    {
      "cell_type": "code",
      "source": [
        "a = int(input(\"Inserisci il primo numero:\"))\n",
        "b = int(input(\"inserisci il secondo numero:\"))\n",
        "print(a+b)\n",
        "print (a-b)\n",
        "print (a*b)"
      ],
      "metadata": {
        "colab": {
          "base_uri": "https://localhost:8080/"
        },
        "id": "iKPQrtBDOQqA",
        "outputId": "fbaa1902-7fe7-4577-ce26-28f04361b68f"
      },
      "execution_count": 41,
      "outputs": [
        {
          "output_type": "stream",
          "name": "stdout",
          "text": [
            "Inserisci il primo numero:2\n",
            "inserisci il secondo numero:4\n",
            "6\n",
            "-2\n",
            "8\n"
          ]
        }
      ]
    },
    {
      "cell_type": "markdown",
      "source": [
        "#2. Divisioni\n",
        "Leggi due interi a e b come input e stampa:\n",
        "\n",
        "1. Il risultato della divisione tra a e b come un numero con la virgola\n",
        "2. Il risultato della divisione tra a e b come numero intero"
      ],
      "metadata": {
        "id": "BBH_E5RUQLvg"
      }
    },
    {
      "cell_type": "code",
      "source": [
        "a = int(input(\"Inserisci il primo numero:\"))\n",
        "b = int(input(\"inserisci il secondo numero:\"))\n",
        "c = a/b\n",
        "print(c)\n",
        "c_int = a//b\n",
        "print(c_int)"
      ],
      "metadata": {
        "colab": {
          "base_uri": "https://localhost:8080/"
        },
        "id": "AmHqWMkQPF6V",
        "outputId": "2943273a-2a55-4df1-f2ae-7cf615df6e7a"
      },
      "execution_count": 58,
      "outputs": [
        {
          "output_type": "stream",
          "name": "stdout",
          "text": [
            "Inserisci il primo numero:3\n",
            "inserisci il secondo numero:4\n",
            "0.75\n",
            "0\n"
          ]
        }
      ]
    },
    {
      "cell_type": "markdown",
      "source": [
        "MEMO: si può imporre a python di dare un numero intero come result di una divisione così: a//b (si usa un doppio //)"
      ],
      "metadata": {
        "id": "JcTKLmjpU4ho"
      }
    },
    {
      "cell_type": "code",
      "source": [
        "a = int(input(\"Inserisci il primo numero:\"))\n",
        "b = int(input(\"inserisci il secondo numero:\"))\n",
        "c = a/b\n",
        "print(c)\n",
        "c_int = int(round(c,0))\n",
        "print(c_int)"
      ],
      "metadata": {
        "colab": {
          "base_uri": "https://localhost:8080/"
        },
        "id": "PsLq6sJHVT-y",
        "outputId": "803a725a-6628-4884-c575-db94c4aaee25"
      },
      "execution_count": 57,
      "outputs": [
        {
          "output_type": "stream",
          "name": "stdout",
          "text": [
            "Inserisci il primo numero:3\n",
            "inserisci il secondo numero:4\n",
            "0.75\n",
            "1\n"
          ]
        }
      ]
    },
    {
      "cell_type": "markdown",
      "source": [
        "Siccome python tronca ad esempio 0,75 se lo into, facendo risultare 0 come intero, per evitare ciò gli dico di intare un numero approssimato usando round: c_int = int(round(c,0))"
      ],
      "metadata": {
        "id": "64-ZpKDRVeLW"
      }
    },
    {
      "cell_type": "markdown",
      "source": [
        "#3. Potenze e modulo\n",
        "Leggi un float a e un intero b come input e stampa:\n",
        "1. a elevato b\n",
        "2. il modulo di a per b\n",
        "\n",
        "All'interno del print inserisci anche l'operazione che stai eseguendo"
      ],
      "metadata": {
        "id": "-hJhGeHWWNL_"
      }
    },
    {
      "cell_type": "code",
      "source": [
        "a = float(input(\"Inserisci il primo numero:\"))\n",
        "b = int(input(\"inserisci il secondo numero:\"))\n",
        "print(f\"{a:.2f} ** {b} = {a**b:.2f}\")\n",
        "print(f\"{a:.2f} % {b} = {a%b:.2f}\")"
      ],
      "metadata": {
        "colab": {
          "base_uri": "https://localhost:8080/"
        },
        "id": "X4ZcjHujVacP",
        "outputId": "5e1a1cc1-9845-4435-9186-9c7bb4f6ee8e"
      },
      "execution_count": 4,
      "outputs": [
        {
          "output_type": "stream",
          "name": "stdout",
          "text": [
            "Inserisci il primo numero:1.5\n",
            "inserisci il secondo numero:2\n",
            "1.50 ** 2 = 2.25\n",
            "1.50 % 2 = 1.50\n"
          ]
        }
      ]
    },
    {
      "cell_type": "markdown",
      "source": [
        "#4. Swapping\n",
        "\n",
        "Lo swapping consiste nell'invertire il valore di due variabili\n",
        "\n",
        "1. Prendi in input due valori e assegnali a due variabili A e B\n",
        "2. Stampa le variabili su schermo\n",
        "3. Assegna il valore di A a B e il valore di B ad A,\n",
        "4. Stampa le variabili su schermo"
      ],
      "metadata": {
        "id": "AM2-1WuJzO2d"
      }
    },
    {
      "cell_type": "code",
      "source": [
        "a = (input(\"Valore A =\"))\n",
        "b = (input(\"Valore B =\"))\n",
        "print(f\"A={a} e B={b}\")\n",
        "\n",
        "c = b\n",
        "b = a\n",
        "a = c\n",
        "\n",
        "print(f\"Il nuovo A={a} e il nuovo B={b}\")"
      ],
      "metadata": {
        "colab": {
          "base_uri": "https://localhost:8080/"
        },
        "id": "zmRIRlD6WJV6",
        "outputId": "87bfb26f-797b-4f62-cd4c-c456193ff38a"
      },
      "execution_count": 6,
      "outputs": [
        {
          "output_type": "stream",
          "name": "stdout",
          "text": [
            "Valore A =1\n",
            "Valore B =2\n",
            "A=1 e B=2\n",
            "Il nuovo A=2 e il nuovo B=1\n"
          ]
        }
      ]
    },
    {
      "cell_type": "markdown",
      "source": [
        "Lo swapping si può fare grazie all'assegnazione multipla, scrivendo\n",
        "\n",
        "a, b = b, a"
      ],
      "metadata": {
        "id": "Troe-9_82z8T"
      }
    },
    {
      "cell_type": "code",
      "source": [
        "a = (input(\"Valore A =\"))\n",
        "b = (input(\"Valore B =\"))\n",
        "print(f\"A={a} e B={b}\")\n",
        "\n",
        "a, b = b, a\n",
        "\n",
        "print(f\"Il nuovo A={a} e il nuovo B={b}\")"
      ],
      "metadata": {
        "colab": {
          "base_uri": "https://localhost:8080/"
        },
        "id": "F_G2UUHiWJQa",
        "outputId": "ef04ea49-8850-43ad-8903-7dd38c4c3817"
      },
      "execution_count": 7,
      "outputs": [
        {
          "output_type": "stream",
          "name": "stdout",
          "text": [
            "Valore A =cane\n",
            "Valore B =gatto\n",
            "A=cane e B=gatto\n",
            "Il nuovo A=gatto e il nuovo B=cane\n"
          ]
        }
      ]
    },
    {
      "cell_type": "markdown",
      "source": [
        "#5. Casting e Formattazione\n",
        "Scriviamo un programma che richieda i tuoi dati e li stampi su schermo. I dati che il programma deve richiedere sono:\n",
        "\n",
        "1. Nome e Cognome\n",
        "2. Anno nascita\n",
        "3. Luogo nascita\n",
        "4. Altezza in metri\n",
        "5. Peso i kilogrmmi\n",
        "\n",
        "Infine il programma dovrà stampare tutte le info, con altezza e peso arrotondate a 2 cifre dopo la virgola, insieme all'età della persona.\n",
        "\n",
        "**ESEMPIO DI INPUT**\n",
        "* Nome e cognome: Enrico Ceci\n",
        "* Anno di nascita: 1995\n",
        "* Luogo nascita: Alatri\n",
        "* Altezza (m): 1.74\n",
        "* Peso (kg): 71.5\n",
        "\n",
        "**ESEMPIO DI OUTPUT**\n",
        "\"Enrico Ceci, 30 anni, nato a Taormina, altezza: 1.75 m, peso: 71.5 kg\"\n",
        "\n",
        "**SUGGERIMENTI**\n",
        "1. La funzione input ritorna sempre una stringa --> se vogliamo dei numeri dobbiamo eseguire il casting;\n",
        "2. Possiamo arrotondare una cifra usando l'operatore formattazione, dove al posto di N dobbiamo inserire il numero di cifre dopo la virgola;"
      ],
      "metadata": {
        "id": "teMTpNo3-i2Q"
      }
    },
    {
      "cell_type": "code",
      "source": [
        "CURRENT_YEAR = 2025\n",
        "\n",
        "name = input (\"Nome e Cognome\")\n",
        "year_o_b = int(input (\"Anno di nascita\"))\n",
        "place_o_b = input(\"Luogo di nascita\")\n",
        "height = float(input(\"La tua altezza (in metri)\"))\n",
        "weight = float(input(\"Il tuo peso (in kg)\"))\n",
        "age = CURRENT_YEAR - year_o_b\n",
        "\n",
        "print(f\"{name}, {age} anni, nato a {place_o_b} \"+\n",
        "      f\"altezza {height:.2f}, peso {weight:.2f}\")"
      ],
      "metadata": {
        "colab": {
          "base_uri": "https://localhost:8080/"
        },
        "id": "4Xgjh6Q_WJLN",
        "outputId": "aa1dbd87-51e9-49d2-dc21-a32f8221bbd7"
      },
      "execution_count": 12,
      "outputs": [
        {
          "output_type": "stream",
          "name": "stdout",
          "text": [
            "Nome e CognomeEnrico Ceci\n",
            "Anno di nascita1995\n",
            "Luogo di nascitaAlatri\n",
            "La tua altezza (in metri)1.74\n",
            "Il tuo peso (in kg)71.5\n",
            "Enrico Ceci, 30 anni, nato a Alatri altezza 1.74, peso 71.50\n"
          ]
        }
      ]
    },
    {
      "cell_type": "code",
      "source": [],
      "metadata": {
        "id": "vuqiPzFVWJFM"
      },
      "execution_count": null,
      "outputs": []
    },
    {
      "cell_type": "code",
      "source": [],
      "metadata": {
        "id": "DCOZZyITWI_6"
      },
      "execution_count": null,
      "outputs": []
    },
    {
      "cell_type": "code",
      "source": [],
      "metadata": {
        "id": "a0ODC-PWWI3h"
      },
      "execution_count": null,
      "outputs": []
    },
    {
      "cell_type": "code",
      "source": [],
      "metadata": {
        "id": "AMmK0lPEWIw_"
      },
      "execution_count": null,
      "outputs": []
    },
    {
      "cell_type": "code",
      "source": [],
      "metadata": {
        "id": "i3sdl5UjWIo9"
      },
      "execution_count": null,
      "outputs": []
    },
    {
      "cell_type": "code",
      "source": [],
      "metadata": {
        "id": "lhATAoieWIew"
      },
      "execution_count": null,
      "outputs": []
    },
    {
      "cell_type": "code",
      "source": [],
      "metadata": {
        "id": "0Bd5aUTFWIPo"
      },
      "execution_count": null,
      "outputs": []
    },
    {
      "cell_type": "code",
      "source": [],
      "metadata": {
        "id": "RnsFA9ZxWHWF"
      },
      "execution_count": null,
      "outputs": []
    }
  ]
}